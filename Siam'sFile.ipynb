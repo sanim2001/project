{
  "nbformat": 4,
  "nbformat_minor": 0,
  "metadata": {
    "colab": {
      "provenance": [],
      "collapsed_sections": [
        "jVt420YpLVvo",
        "2vIzxCHgOabN",
        "Z0SdoOwoOlzP",
        "HVb5PdKyPfKT",
        "Nq1BDazRPLGJ"
      ]
    },
    "kernelspec": {
      "name": "python3",
      "display_name": "Python 3"
    },
    "language_info": {
      "name": "python"
    }
  },
  "cells": [
    {
      "cell_type": "markdown",
      "source": [
        "# Lab 1 Assignment: Basics of Python\n",
        "\n",
        "Solve the questions in this jupyter notebook. You must:\n",
        "- make your code tidy with appropriate comments.\n",
        "- Use the code segment below the questions.\n",
        "- Submit the code by 11:59 PM, Saturday\n",
        ""
      ],
      "metadata": {
        "id": "jVt420YpLVvo"
      }
    },
    {
      "cell_type": "markdown",
      "source": [
        "# 1. Read inputs from the user. Write a Python program to return their product. If the product is greater than 1000, then return their sum as well."
      ],
      "metadata": {
        "id": "h3kCiRDiKtfr"
      }
    },
    {
      "cell_type": "code",
      "execution_count": null,
      "metadata": {
        "id": "h6B52Fr2Kngi",
        "colab": {
          "base_uri": "https://localhost:8080/"
        },
        "outputId": "cfd42e9b-4d98-4dd8-ac79-b7c6e817fa71"
      },
      "outputs": [
        {
          "name": "stdout",
          "output_type": "stream",
          "text": [
            "Enter product no. 1: 60\n",
            "Enter product no. 2: 50\n"
          ]
        }
      ],
      "source": [
        "product1 = int(input(\"Enter product no. 1: \"))\n",
        "product2 = int(input(\"Enter product no. 2: \"))\n",
        "\n",
        "result = product1 + product2\n",
        "\n",
        "if(result > 1000):\n",
        "    print(result)"
      ]
    },
    {
      "cell_type": "markdown",
      "source": [
        "# 2. Write a Python program to find the area and perimeter of a circle. Read inputs from the user."
      ],
      "metadata": {
        "id": "xkPxeljPM6PQ"
      }
    },
    {
      "cell_type": "code",
      "source": [
        "pi = 22.0 /7\n",
        "r = float(input(\"Enter the r: \"))\n",
        "\n",
        "area = pi * r * r\n",
        "print(\"The area of the circle is %f\" % area)\n",
        "\n",
        "perimeter = 2 * r * pi\n",
        "print(\"The perimeter of the circle is %f\" % perimeter)"
      ],
      "metadata": {
        "id": "Hj_PKxSgNBH5",
        "colab": {
          "base_uri": "https://localhost:8080/"
        },
        "outputId": "77452cd6-eb7e-42c4-d5d2-80dfc06e36ec"
      },
      "execution_count": null,
      "outputs": [
        {
          "output_type": "stream",
          "name": "stdout",
          "text": [
            "Enter the r: 3\n",
            "The area of the circle is 28.285714\n",
            "The perimeter of the circle is 18.857143\n"
          ]
        }
      ]
    },
    {
      "cell_type": "markdown",
      "source": [
        "# 3. Given a positive integer N (read from the user), write a Python program to calculate the value of the following series.\n",
        "`1^2 + 2^2 + 3^2 + 4^2 + … + N^2`"
      ],
      "metadata": {
        "id": "OZDC6jCYNCJj"
      }
    },
    {
      "cell_type": "code",
      "source": [
        "N = int(input(\"Enter the N: \"))\n",
        "\n",
        "sum = 0\n",
        "for i in range(1,N+1):\n",
        "  sum += i*i\n",
        "\n",
        "print(sum)\n"
      ],
      "metadata": {
        "id": "G0kmtdqoNbio",
        "colab": {
          "base_uri": "https://localhost:8080/"
        },
        "outputId": "2811230a-fded-4cc0-a76e-3c834380c74a"
      },
      "execution_count": null,
      "outputs": [
        {
          "output_type": "stream",
          "name": "stdout",
          "text": [
            "Enter the N: 3\n",
            "14\n"
          ]
        }
      ]
    },
    {
      "cell_type": "markdown",
      "source": [
        "# 4. Given a positive integer N (read from the user), write a Python program to check if the number is prime or not."
      ],
      "metadata": {
        "id": "1P8HMSmJNhAB"
      }
    },
    {
      "cell_type": "code",
      "source": [
        "N = int(input(\"Enter the N: \"))\n",
        "flag = False\n",
        "if N > 1:\n",
        "  for i in range(2, N):\n",
        "    if(N % i) == 0:\n",
        "      flag = True\n",
        "      break\n",
        "\n",
        "if flag:\n",
        "  print(N, \"is not a prime number.\")\n",
        "else:\n",
        "  print(N, \"is a prime number.\")"
      ],
      "metadata": {
        "id": "1RM57x4eNlFs",
        "colab": {
          "base_uri": "https://localhost:8080/"
        },
        "outputId": "f44dc919-1d8a-4f6a-e2a2-2fae90b71a96"
      },
      "execution_count": null,
      "outputs": [
        {
          "output_type": "stream",
          "name": "stdout",
          "text": [
            "Enter the N: 11\n",
            "11 is a prime number.\n"
          ]
        }
      ]
    },
    {
      "cell_type": "markdown",
      "source": [
        "# 5. Given a list of numbers (hardcoded in the program), write a Python program to calculate the sum of the list. Do not use any built-in function."
      ],
      "metadata": {
        "id": "lbI7vio0Nsg-"
      }
    },
    {
      "cell_type": "code",
      "source": [
        "total = 0\n",
        "\n",
        "list1 = [1, 2, 3, 4, 5, 6]\n",
        "\n",
        "for i in range(0, len(list1)):\n",
        "    total = total + list1[i]\n",
        "\n",
        "print(\"Sum of all elements in given list: \", total)"
      ],
      "metadata": {
        "id": "ZtI16tjCNu1y",
        "colab": {
          "base_uri": "https://localhost:8080/"
        },
        "outputId": "0b6c43bc-59c4-425a-8e60-2a5402c17a9c"
      },
      "execution_count": null,
      "outputs": [
        {
          "output_type": "stream",
          "name": "stdout",
          "text": [
            "Sum of all elements in given list:  21\n"
          ]
        }
      ]
    },
    {
      "cell_type": "markdown",
      "source": [
        "# 6. Given a list of numbers (hardcoded in the program), write a Python program to calculate the sum of the even-indexed elements in the list."
      ],
      "metadata": {
        "id": "g1-QgspnN77g"
      }
    },
    {
      "cell_type": "code",
      "source": [
        "total = 0\n",
        "\n",
        "list1 = [1, 2, 3, 4, 5, 6]\n",
        "\n",
        "for i in range(0, len(list1)):\n",
        "  if i%2 == 0:\n",
        "    total = total + list1[i]\n",
        "\n",
        "print(\"Sum of all even elements in given list: \", total)"
      ],
      "metadata": {
        "id": "Q8ymeCypN-0d",
        "colab": {
          "base_uri": "https://localhost:8080/"
        },
        "outputId": "af8d3b17-8852-43b6-c606-a76480eaf71f"
      },
      "execution_count": null,
      "outputs": [
        {
          "output_type": "stream",
          "name": "stdout",
          "text": [
            "Sum of all even elements in given list:  9\n"
          ]
        }
      ]
    },
    {
      "cell_type": "markdown",
      "source": [
        "# 7. Given a list of numbers (hardcoded in the program), write a Python program to find the second largest element of the list."
      ],
      "metadata": {
        "id": "BgRKgShEOLHl"
      }
    },
    {
      "cell_type": "code",
      "source": [
        "list1 = [54, 25, 68, 41, 63]\n",
        "\n",
        "mx = max(list1[0], list1[1])\n",
        "secondmax = min(list1[0], list1[1])\n",
        "\n",
        "for i in range(2, len(list1)):\n",
        "    if list1[i] > mx:\n",
        "        secondmax = mx\n",
        "        mx = list1[i]\n",
        "    elif list1[i] > secondmax and mx != list1[i]:\n",
        "        secondmax = list1[i]\n",
        "    elif mx == secondmax and secondmax != list1[i]:\n",
        "        secondmax = list1[i]\n",
        "\n",
        "print(\"Second largest element is : \", secondmax)"
      ],
      "metadata": {
        "id": "eOqMwnOfONGA",
        "colab": {
          "base_uri": "https://localhost:8080/"
        },
        "outputId": "969a7fef-ab75-4521-decb-867670e3a222"
      },
      "execution_count": null,
      "outputs": [
        {
          "output_type": "stream",
          "name": "stdout",
          "text": [
            "Second largest element is :  63\n"
          ]
        }
      ]
    },
    {
      "cell_type": "markdown",
      "source": [
        "# 8. Given a string, display only those characters which are present at an even index number. Read inputs from the user."
      ],
      "metadata": {
        "id": "rbCQwcK0ORTa"
      }
    },
    {
      "cell_type": "code",
      "source": [
        "str = input(\"Enter a string: \\n\")\n",
        "\n",
        "for index in range(len(str)):\n",
        "    if index % 2 == 0:\n",
        "        print(str[index], end='')"
      ],
      "metadata": {
        "id": "-x-qAPwnOT3K",
        "colab": {
          "base_uri": "https://localhost:8080/"
        },
        "outputId": "e98264b8-7bf7-4564-e0e0-77f9bcbbbc33"
      },
      "execution_count": null,
      "outputs": [
        {
          "output_type": "stream",
          "name": "stdout",
          "text": [
            "Enter a string: \n",
            "ertast\n",
            "ets"
          ]
        }
      ]
    },
    {
      "cell_type": "markdown",
      "source": [
        "# 9. Given a string and an integer number N, remove characters from a string starting from zero up to N and return a new string. N must be less than the length of the string. Read inputs from the user. Do not use any built-in function."
      ],
      "metadata": {
        "id": "2vIzxCHgOabN"
      }
    },
    {
      "cell_type": "code",
      "source": [],
      "metadata": {
        "id": "qAaNW6z4OcwC"
      },
      "execution_count": null,
      "outputs": []
    },
    {
      "cell_type": "markdown",
      "source": [
        "# 10. Given a string, find the count of the substring “CSE303” appeared in the given string. Do not use any built-in function.\n",
        "\n",
        "The string is: \"This is CSE303 course. The name of CSE303 is: Statistics for Data Science. It's a fundamental CSE course for future data scientists.\""
      ],
      "metadata": {
        "id": "Z0SdoOwoOlzP"
      }
    },
    {
      "cell_type": "code",
      "source": [],
      "metadata": {
        "id": "D5we1z4CPDTe"
      },
      "execution_count": null,
      "outputs": []
    },
    {
      "cell_type": "markdown",
      "source": [
        "# 11. Given a two list of numbers (hardcoded in the program), create a new list such that new list should contain only odd numbers from the first list and even numbers from the second list."
      ],
      "metadata": {
        "id": "HVb5PdKyPfKT"
      }
    },
    {
      "cell_type": "code",
      "source": [
        "list1 = [54, 25, 68, 41, 63]\n",
        "list2 = [5, 27, 58, 78, 53]\n",
        "\n",
        "for index in range(len(list1)):\n",
        "    if index % 2 == 0:\n",
        "        print(str[index])"
      ],
      "metadata": {
        "id": "TojILvwsPiXG",
        "colab": {
          "base_uri": "https://localhost:8080/"
        },
        "outputId": "8e24967c-9376-4565-f653-77ea76922273"
      },
      "execution_count": null,
      "outputs": [
        {
          "output_type": "stream",
          "name": "stdout",
          "text": [
            "v\n",
            "h\n",
            "u\n"
          ]
        }
      ]
    },
    {
      "cell_type": "markdown",
      "source": [
        "# Bonus points:\n",
        "\n",
        "Learn how to define functions in python and solve the problem:\n",
        "\n",
        "Given a string, write a python program to check if it is palindrome or not. Define a function named palindrome_checker_<your-student-id> in your program."
      ],
      "metadata": {
        "id": "Nq1BDazRPLGJ"
      }
    },
    {
      "cell_type": "code",
      "source": [],
      "metadata": {
        "id": "NmyMklbXPeOL"
      },
      "execution_count": null,
      "outputs": []
    }
  ]
}